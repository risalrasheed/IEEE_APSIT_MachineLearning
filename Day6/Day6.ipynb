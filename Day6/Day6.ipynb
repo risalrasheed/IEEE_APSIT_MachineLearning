{
  "nbformat": 4,
  "nbformat_minor": 0,
  "metadata": {
    "colab": {
      "name": "Day6.ipynb",
      "provenance": [],
      "collapsed_sections": []
    },
    "kernelspec": {
      "name": "python3",
      "display_name": "Python 3"
    }
  },
  "cells": [
    {
      "cell_type": "code",
      "metadata": {
        "id": "gx9nvPKcfvI6",
        "colab_type": "code",
        "colab": {}
      },
      "source": [
        "import numpy as np\n",
        "import matplotlib.pyplot as plt\n",
        "import pandas as pd\n",
        "import pickle"
      ],
      "execution_count": 0,
      "outputs": []
    },
    {
      "cell_type": "code",
      "metadata": {
        "id": "TTvZWYZuf2kf",
        "colab_type": "code",
        "outputId": "6d3d3a94-7640-46e1-cbae-f83c3c4f2d17",
        "colab": {
          "base_uri": "https://localhost:8080/",
          "height": 408
        }
      },
      "source": [
        "!wget http://iali.in/datasets/Social_Network_Ads.csv\n",
        "!pip install flask-ngrok"
      ],
      "execution_count": 97,
      "outputs": [
        {
          "output_type": "stream",
          "text": [
            "--2020-06-07 17:57:44--  http://iali.in/datasets/Social_Network_Ads.csv\n",
            "Resolving iali.in (iali.in)... 156.67.222.125\n",
            "Connecting to iali.in (iali.in)|156.67.222.125|:80... connected.\n",
            "HTTP request sent, awaiting response... 200 OK\n",
            "Length: 10926 (11K) [text/plain]\n",
            "Saving to: ‘Social_Network_Ads.csv.4’\n",
            "\n",
            "\rSocial_Network_Ads.   0%[                    ]       0  --.-KB/s               \rSocial_Network_Ads. 100%[===================>]  10.67K  --.-KB/s    in 0s      \n",
            "\n",
            "2020-06-07 17:57:45 (220 MB/s) - ‘Social_Network_Ads.csv.4’ saved [10926/10926]\n",
            "\n",
            "Requirement already satisfied: flask-ngrok in /usr/local/lib/python3.6/dist-packages (0.0.25)\n",
            "Requirement already satisfied: requests in /usr/local/lib/python3.6/dist-packages (from flask-ngrok) (2.23.0)\n",
            "Requirement already satisfied: Flask>=0.8 in /usr/local/lib/python3.6/dist-packages (from flask-ngrok) (1.1.2)\n",
            "Requirement already satisfied: idna<3,>=2.5 in /usr/local/lib/python3.6/dist-packages (from requests->flask-ngrok) (2.9)\n",
            "Requirement already satisfied: certifi>=2017.4.17 in /usr/local/lib/python3.6/dist-packages (from requests->flask-ngrok) (2020.4.5.1)\n",
            "Requirement already satisfied: chardet<4,>=3.0.2 in /usr/local/lib/python3.6/dist-packages (from requests->flask-ngrok) (3.0.4)\n",
            "Requirement already satisfied: urllib3!=1.25.0,!=1.25.1,<1.26,>=1.21.1 in /usr/local/lib/python3.6/dist-packages (from requests->flask-ngrok) (1.24.3)\n",
            "Requirement already satisfied: click>=5.1 in /usr/local/lib/python3.6/dist-packages (from Flask>=0.8->flask-ngrok) (7.1.2)\n",
            "Requirement already satisfied: Jinja2>=2.10.1 in /usr/local/lib/python3.6/dist-packages (from Flask>=0.8->flask-ngrok) (2.11.2)\n",
            "Requirement already satisfied: itsdangerous>=0.24 in /usr/local/lib/python3.6/dist-packages (from Flask>=0.8->flask-ngrok) (1.1.0)\n",
            "Requirement already satisfied: Werkzeug>=0.15 in /usr/local/lib/python3.6/dist-packages (from Flask>=0.8->flask-ngrok) (1.0.1)\n",
            "Requirement already satisfied: MarkupSafe>=0.23 in /usr/local/lib/python3.6/dist-packages (from Jinja2>=2.10.1->Flask>=0.8->flask-ngrok) (1.1.1)\n"
          ],
          "name": "stdout"
        }
      ]
    },
    {
      "cell_type": "code",
      "metadata": {
        "id": "XL0MVIp3gIUN",
        "colab_type": "code",
        "outputId": "1464ce2a-7b69-4b8b-ac3b-f48524db6c54",
        "colab": {
          "base_uri": "https://localhost:8080/",
          "height": 204
        }
      },
      "source": [
        "dataset=pd.read_csv(\"Social_Network_Ads.csv\")\n",
        "dataset.head()"
      ],
      "execution_count": 98,
      "outputs": [
        {
          "output_type": "execute_result",
          "data": {
            "text/html": [
              "<div>\n",
              "<style scoped>\n",
              "    .dataframe tbody tr th:only-of-type {\n",
              "        vertical-align: middle;\n",
              "    }\n",
              "\n",
              "    .dataframe tbody tr th {\n",
              "        vertical-align: top;\n",
              "    }\n",
              "\n",
              "    .dataframe thead th {\n",
              "        text-align: right;\n",
              "    }\n",
              "</style>\n",
              "<table border=\"1\" class=\"dataframe\">\n",
              "  <thead>\n",
              "    <tr style=\"text-align: right;\">\n",
              "      <th></th>\n",
              "      <th>User ID</th>\n",
              "      <th>Gender</th>\n",
              "      <th>Age</th>\n",
              "      <th>EstimatedSalary</th>\n",
              "      <th>Purchased</th>\n",
              "    </tr>\n",
              "  </thead>\n",
              "  <tbody>\n",
              "    <tr>\n",
              "      <th>0</th>\n",
              "      <td>15624510</td>\n",
              "      <td>Male</td>\n",
              "      <td>19</td>\n",
              "      <td>19000</td>\n",
              "      <td>0</td>\n",
              "    </tr>\n",
              "    <tr>\n",
              "      <th>1</th>\n",
              "      <td>15810944</td>\n",
              "      <td>Male</td>\n",
              "      <td>35</td>\n",
              "      <td>20000</td>\n",
              "      <td>0</td>\n",
              "    </tr>\n",
              "    <tr>\n",
              "      <th>2</th>\n",
              "      <td>15668575</td>\n",
              "      <td>Female</td>\n",
              "      <td>26</td>\n",
              "      <td>43000</td>\n",
              "      <td>0</td>\n",
              "    </tr>\n",
              "    <tr>\n",
              "      <th>3</th>\n",
              "      <td>15603246</td>\n",
              "      <td>Female</td>\n",
              "      <td>27</td>\n",
              "      <td>57000</td>\n",
              "      <td>0</td>\n",
              "    </tr>\n",
              "    <tr>\n",
              "      <th>4</th>\n",
              "      <td>15804002</td>\n",
              "      <td>Male</td>\n",
              "      <td>19</td>\n",
              "      <td>76000</td>\n",
              "      <td>0</td>\n",
              "    </tr>\n",
              "  </tbody>\n",
              "</table>\n",
              "</div>"
            ],
            "text/plain": [
              "    User ID  Gender  Age  EstimatedSalary  Purchased\n",
              "0  15624510    Male   19            19000          0\n",
              "1  15810944    Male   35            20000          0\n",
              "2  15668575  Female   26            43000          0\n",
              "3  15603246  Female   27            57000          0\n",
              "4  15804002    Male   19            76000          0"
            ]
          },
          "metadata": {
            "tags": []
          },
          "execution_count": 98
        }
      ]
    },
    {
      "cell_type": "code",
      "metadata": {
        "id": "CzgmbMZWgRs9",
        "colab_type": "code",
        "colab": {}
      },
      "source": [
        "x = dataset.iloc[:, [2, 3]].values\n",
        "y = dataset.iloc[:, 4].values\n"
      ],
      "execution_count": 0,
      "outputs": []
    },
    {
      "cell_type": "code",
      "metadata": {
        "id": "3gCrk2bMggvD",
        "colab_type": "code",
        "colab": {}
      },
      "source": [
        "from sklearn.model_selection import train_test_split\n",
        "x_train,x_test,y_train,y_test=train_test_split(x,y,test_size=0.2,random_state=1)"
      ],
      "execution_count": 0,
      "outputs": []
    },
    {
      "cell_type": "code",
      "metadata": {
        "id": "pPveTYzYgs-m",
        "colab_type": "code",
        "colab": {}
      },
      "source": [
        "from sklearn import tree\n",
        "clf=tree.DecisionTreeClassifier()\n",
        "clf=clf.fit(x_train,y_train)"
      ],
      "execution_count": 0,
      "outputs": []
    },
    {
      "cell_type": "code",
      "metadata": {
        "id": "aADrEA0miFvS",
        "colab_type": "code",
        "outputId": "d3fc6790-99ed-4ba6-9d40-7d58ae238659",
        "colab": {
          "base_uri": "https://localhost:8080/",
          "height": 34
        }
      },
      "source": [
        "y_pred=clf.predict(np.array([[39,  61000]]))\n",
        "y_pred"
      ],
      "execution_count": 102,
      "outputs": [
        {
          "output_type": "execute_result",
          "data": {
            "text/plain": [
              "array([0])"
            ]
          },
          "metadata": {
            "tags": []
          },
          "execution_count": 102
        }
      ]
    },
    {
      "cell_type": "code",
      "metadata": {
        "id": "BGPKmMCakSId",
        "colab_type": "code",
        "colab": {}
      },
      "source": [
        "pickle.dump(clf, open('clfmodel.pkl','wb'))"
      ],
      "execution_count": 0,
      "outputs": []
    },
    {
      "cell_type": "code",
      "metadata": {
        "id": "vRBbVwkXlvhH",
        "colab_type": "code",
        "outputId": "16599a81-b998-415c-fc1f-d9a24c2de89b",
        "colab": {
          "base_uri": "https://localhost:8080/",
          "height": 34
        }
      },
      "source": [
        "model = pickle.load(open('clfmodel.pkl','rb'))\n",
        "print(model.predict([[39,  61000]]))"
      ],
      "execution_count": 104,
      "outputs": [
        {
          "output_type": "stream",
          "text": [
            "[0]\n"
          ],
          "name": "stdout"
        }
      ]
    },
    {
      "cell_type": "code",
      "metadata": {
        "id": "m2dzLbuixTZ5",
        "colab_type": "code",
        "colab": {}
      },
      "source": [
        "from flask import Flask, request, jsonify, render_template\n",
        "app = Flask(__name__)\n",
        "run_with_ngrok(app)\n",
        "model = pickle.load(open('clfmodel.pkl', 'rb'))"
      ],
      "execution_count": 0,
      "outputs": []
    },
    {
      "cell_type": "code",
      "metadata": {
        "id": "dM-Q0WR0xp37",
        "colab_type": "code",
        "colab": {}
      },
      "source": [
        "@app.route('/')\n",
        "def home():\n",
        "    return render_template('index.html')\n"
      ],
      "execution_count": 0,
      "outputs": []
    },
    {
      "cell_type": "code",
      "metadata": {
        "id": "SmCzI5kwxse3",
        "colab_type": "code",
        "colab": {}
      },
      "source": [
        "@app.route('/predict',methods=['POST'])\n",
        "def predict():\n",
        "    '''\n",
        "    For rendering results on HTML GUI\n",
        "    '''\n",
        "    int_features = [int(x) for x in request.form.values()]\n",
        "    final_features = [np.array(int_features)]\n",
        "    prediction = model.predict(final_features)\n",
        "\n",
        "    output = round(prediction[0], 2)\n",
        "    if output==1.0:\n",
        "      stroutput=\"Will Purchase\"\n",
        "    else:\n",
        "      stroutput=\"Will not Purchase\"\n",
        "\n",
        "    return render_template('index.html', prediction_text='Status of purchase : {}'.format(stroutput))"
      ],
      "execution_count": 0,
      "outputs": []
    },
    {
      "cell_type": "code",
      "metadata": {
        "id": "mNTLvwjdyMIw",
        "colab_type": "code",
        "colab": {}
      },
      "source": [
        "@app.route('/predict_api',methods=['POST'])\n",
        "def predict_api():\n",
        "    '''\n",
        "    For direct API calls trought request\n",
        "    '''\n",
        "    data = request.get_json(force=True)\n",
        "    prediction = model.predict([np.array(list(data.values()))])\n",
        "\n",
        "    output = prediction[0]\n",
        "    return jsonify(output)"
      ],
      "execution_count": 0,
      "outputs": []
    },
    {
      "cell_type": "code",
      "metadata": {
        "id": "ju675GgFyUXn",
        "colab_type": "code",
        "outputId": "369f3489-4138-4b4f-fcaf-afc5e405ccf0",
        "colab": {
          "base_uri": "https://localhost:8080/",
          "height": 204
        }
      },
      "source": [
        "from flask_ngrok import run_with_ngrok\n",
        "import traceback\n",
        "try:\n",
        "  app.run()\n",
        "except:\n",
        "  print(\"hi\")\n",
        "  traceback.print_exc()"
      ],
      "execution_count": 109,
      "outputs": [
        {
          "output_type": "stream",
          "text": [
            " * Serving Flask app \"__main__\" (lazy loading)\n",
            " * Environment: production\n",
            "\u001b[31m   WARNING: This is a development server. Do not use it in a production deployment.\u001b[0m\n",
            "\u001b[2m   Use a production WSGI server instead.\u001b[0m\n",
            " * Debug mode: off\n",
            " * Running on http://b0228cf21c45.ngrok.io\n",
            " * Traffic stats available on http://127.0.0.1:4040\n"
          ],
          "name": "stdout"
        },
        {
          "output_type": "stream",
          "text": [
            "127.0.0.1 - - [07/Jun/2020 17:58:18] \"\u001b[37mGET / HTTP/1.1\u001b[0m\" 200 -\n",
            "127.0.0.1 - - [07/Jun/2020 17:58:19] \"\u001b[37mGET /static/css/style.css HTTP/1.1\u001b[0m\" 200 -\n",
            "127.0.0.1 - - [07/Jun/2020 17:58:20] \"\u001b[33mGET /favicon.ico HTTP/1.1\u001b[0m\" 404 -\n",
            "127.0.0.1 - - [07/Jun/2020 17:58:27] \"\u001b[37mPOST /predict HTTP/1.1\u001b[0m\" 200 -\n"
          ],
          "name": "stderr"
        }
      ]
    }
  ]
}