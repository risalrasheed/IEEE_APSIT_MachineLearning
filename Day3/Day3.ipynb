{
  "nbformat": 4,
  "nbformat_minor": 0,
  "metadata": {
    "colab": {
      "name": "Day3.ipynb",
      "provenance": [],
      "collapsed_sections": []
    },
    "kernelspec": {
      "name": "python3",
      "display_name": "Python 3"
    }
  },
  "cells": [
    {
      "cell_type": "code",
      "metadata": {
        "id": "YPo6jgs6FLNP",
        "colab_type": "code",
        "colab": {}
      },
      "source": [
        "import pandas as pd\n",
        "import numpy as np"
      ],
      "execution_count": 0,
      "outputs": []
    },
    {
      "cell_type": "code",
      "metadata": {
        "id": "IQcgnenIFwzC",
        "colab_type": "code",
        "outputId": "512f0676-8fdf-445c-c56d-f7ee86733a62",
        "colab": {
          "base_uri": "https://localhost:8080/",
          "height": 204
        }
      },
      "source": [
        "!wget http://iali.in/datasets/mushrooms.csv"
      ],
      "execution_count": 2,
      "outputs": [
        {
          "output_type": "stream",
          "text": [
            "--2020-06-05 02:06:20--  http://iali.in/datasets/mushrooms.csv\n",
            "Resolving iali.in (iali.in)... 156.67.222.125\n",
            "Connecting to iali.in (iali.in)|156.67.222.125|:80... connected.\n",
            "HTTP request sent, awaiting response... 200 OK\n",
            "Length: 374003 (365K) [text/plain]\n",
            "Saving to: ‘mushrooms.csv’\n",
            "\n",
            "mushrooms.csv       100%[===================>] 365.24K   954KB/s    in 0.4s    \n",
            "\n",
            "2020-06-05 02:06:21 (954 KB/s) - ‘mushrooms.csv’ saved [374003/374003]\n",
            "\n"
          ],
          "name": "stdout"
        }
      ]
    },
    {
      "cell_type": "code",
      "metadata": {
        "id": "tGXGwr9lGSyS",
        "colab_type": "code",
        "outputId": "6b671370-ce82-4fdb-84b2-fcca4ba0f0ed",
        "colab": {
          "base_uri": "https://localhost:8080/",
          "height": 408
        }
      },
      "source": [
        "dataset=pd.read_csv(\"mushrooms.csv\")\n",
        "#dataset.head()\n",
        "dataset.describe()"
      ],
      "execution_count": 10,
      "outputs": [
        {
          "output_type": "execute_result",
          "data": {
            "text/plain": [
              "['class',\n",
              " 'cap-shape',\n",
              " 'cap-surface',\n",
              " 'cap-color',\n",
              " 'bruises',\n",
              " 'odor',\n",
              " 'gill-attachment',\n",
              " 'gill-spacing',\n",
              " 'gill-size',\n",
              " 'gill-color',\n",
              " 'stalk-shape',\n",
              " 'stalk-root',\n",
              " 'stalk-surface-above-ring',\n",
              " 'stalk-surface-below-ring',\n",
              " 'stalk-color-above-ring',\n",
              " 'stalk-color-below-ring',\n",
              " 'veil-type',\n",
              " 'veil-color',\n",
              " 'ring-number',\n",
              " 'ring-type',\n",
              " 'spore-print-color',\n",
              " 'population',\n",
              " 'habitat']"
            ]
          },
          "metadata": {
            "tags": []
          },
          "execution_count": 10
        }
      ]
    },
    {
      "cell_type": "code",
      "metadata": {
        "id": "e8Rj2pCLR431",
        "colab_type": "code",
        "colab": {}
      },
      "source": [
        ""
      ],
      "execution_count": 0,
      "outputs": []
    },
    {
      "cell_type": "code",
      "metadata": {
        "id": "U4QT8cKyGtvo",
        "colab_type": "code",
        "outputId": "5d931161-2bea-45e7-ffae-6d9d6463ffe7",
        "colab": {
          "base_uri": "https://localhost:8080/",
          "height": 241
        }
      },
      "source": [
        "\n",
        "x_mushrooms=dataset.iloc[:,1:]\n",
        "#x_mushrooms.describe()\n",
        "#print(type(x_mushrooms))\n",
        "y_mushrooms=dataset.iloc[:,[0]]\n",
        "#y_mushrooms.describe()\n",
        "\n",
        "#for col in x_mushrooms:\n",
        "#  x_mushrooms[col]=x_mushrooms[col].astype('category')\n",
        "#  x_mushrooms[col]=x_mushrooms[col].cat.codes\n",
        "#for col in y_mushrooms:\n",
        "#  y_mushrooms[col]=y_mushrooms[col].astype('category')\n",
        "#  y_mushrooms[col]=y_mushrooms[col].cat.codes\n",
        "#x_mushrooms=x_mushrooms.iloc[:,:].values\n",
        "#y_mushrooms=y_mushrooms.iloc[:,:].values\n",
        "\n",
        "\n",
        "from sklearn import preprocessing\n",
        "label_encoder=preprocessing.LabelEncoder()\n",
        "for col in y_mushrooms.columns:\n",
        "  y_mushrooms[col]=label_encoder.fit_transform(y_mushrooms[col])\n",
        "for col in x_mushrooms:\n",
        "  x_mushrooms[col]=label_encoder.fit_transform(x_mushrooms[col])\n",
        "print(len(y_mushrooms.columns))\n",
        "x_mushrooms=x_mushrooms.iloc[:,:].values\n",
        "y_mushrooms=y_mushrooms.iloc[:,0].values\n",
        "y_mushrooms.shape"
      ],
      "execution_count": 58,
      "outputs": [
        {
          "output_type": "stream",
          "text": [
            "1\n"
          ],
          "name": "stdout"
        },
        {
          "output_type": "stream",
          "text": [
            "/usr/local/lib/python3.6/dist-packages/ipykernel_launcher.py:21: SettingWithCopyWarning: \n",
            "A value is trying to be set on a copy of a slice from a DataFrame.\n",
            "Try using .loc[row_indexer,col_indexer] = value instead\n",
            "\n",
            "See the caveats in the documentation: https://pandas.pydata.org/pandas-docs/stable/user_guide/indexing.html#returning-a-view-versus-a-copy\n",
            "/usr/local/lib/python3.6/dist-packages/ipykernel_launcher.py:23: SettingWithCopyWarning: \n",
            "A value is trying to be set on a copy of a slice from a DataFrame.\n",
            "Try using .loc[row_indexer,col_indexer] = value instead\n",
            "\n",
            "See the caveats in the documentation: https://pandas.pydata.org/pandas-docs/stable/user_guide/indexing.html#returning-a-view-versus-a-copy\n"
          ],
          "name": "stderr"
        },
        {
          "output_type": "execute_result",
          "data": {
            "text/plain": [
              "(8124,)"
            ]
          },
          "metadata": {
            "tags": []
          },
          "execution_count": 58
        }
      ]
    },
    {
      "cell_type": "code",
      "metadata": {
        "id": "j8M2pODeXOaF",
        "colab_type": "code",
        "outputId": "66acdc2b-42c4-4bca-ee0b-35ceca7f9f7a",
        "colab": {
          "base_uri": "https://localhost:8080/",
          "height": 34
        }
      },
      "source": [
        "from sklearn.model_selection import train_test_split\n",
        "x_train,x_test,y_train,y_test=train_test_split(x_mushrooms,y_mushrooms,test_size=0.2,random_state=1)\n",
        "y_mushrooms.shape"
      ],
      "execution_count": 59,
      "outputs": [
        {
          "output_type": "execute_result",
          "data": {
            "text/plain": [
              "(8124,)"
            ]
          },
          "metadata": {
            "tags": []
          },
          "execution_count": 59
        }
      ]
    },
    {
      "cell_type": "code",
      "metadata": {
        "id": "W_mbQ-p4aMxj",
        "colab_type": "code",
        "colab": {}
      },
      "source": [
        "from sklearn.ensemble import RandomForestRegressor\n",
        "rf = RandomForestRegressor(n_estimators = 100, random_state = 1)\n",
        "rf.fit(x_train, y_train);"
      ],
      "execution_count": 0,
      "outputs": []
    },
    {
      "cell_type": "code",
      "metadata": {
        "id": "x7Qjf4ND0p96",
        "colab_type": "code",
        "outputId": "376f585c-01b9-4e21-c44a-ad1e84113dba",
        "colab": {
          "base_uri": "https://localhost:8080/",
          "height": 436
        }
      },
      "source": [
        "y_pred=rf.predict(x_test)\n",
        "\n",
        "print(y_test.ndim)\n",
        "df = pd.DataFrame({'Actual': y_test, 'Predicted': y_pred})\n",
        "df"
      ],
      "execution_count": 61,
      "outputs": [
        {
          "output_type": "stream",
          "text": [
            "1\n"
          ],
          "name": "stdout"
        },
        {
          "output_type": "execute_result",
          "data": {
            "text/html": [
              "<div>\n",
              "<style scoped>\n",
              "    .dataframe tbody tr th:only-of-type {\n",
              "        vertical-align: middle;\n",
              "    }\n",
              "\n",
              "    .dataframe tbody tr th {\n",
              "        vertical-align: top;\n",
              "    }\n",
              "\n",
              "    .dataframe thead th {\n",
              "        text-align: right;\n",
              "    }\n",
              "</style>\n",
              "<table border=\"1\" class=\"dataframe\">\n",
              "  <thead>\n",
              "    <tr style=\"text-align: right;\">\n",
              "      <th></th>\n",
              "      <th>Actual</th>\n",
              "      <th>Predicted</th>\n",
              "    </tr>\n",
              "  </thead>\n",
              "  <tbody>\n",
              "    <tr>\n",
              "      <th>0</th>\n",
              "      <td>0</td>\n",
              "      <td>0.0</td>\n",
              "    </tr>\n",
              "    <tr>\n",
              "      <th>1</th>\n",
              "      <td>1</td>\n",
              "      <td>1.0</td>\n",
              "    </tr>\n",
              "    <tr>\n",
              "      <th>2</th>\n",
              "      <td>1</td>\n",
              "      <td>1.0</td>\n",
              "    </tr>\n",
              "    <tr>\n",
              "      <th>3</th>\n",
              "      <td>1</td>\n",
              "      <td>1.0</td>\n",
              "    </tr>\n",
              "    <tr>\n",
              "      <th>4</th>\n",
              "      <td>0</td>\n",
              "      <td>0.0</td>\n",
              "    </tr>\n",
              "    <tr>\n",
              "      <th>...</th>\n",
              "      <td>...</td>\n",
              "      <td>...</td>\n",
              "    </tr>\n",
              "    <tr>\n",
              "      <th>1620</th>\n",
              "      <td>1</td>\n",
              "      <td>1.0</td>\n",
              "    </tr>\n",
              "    <tr>\n",
              "      <th>1621</th>\n",
              "      <td>0</td>\n",
              "      <td>0.0</td>\n",
              "    </tr>\n",
              "    <tr>\n",
              "      <th>1622</th>\n",
              "      <td>1</td>\n",
              "      <td>1.0</td>\n",
              "    </tr>\n",
              "    <tr>\n",
              "      <th>1623</th>\n",
              "      <td>0</td>\n",
              "      <td>0.0</td>\n",
              "    </tr>\n",
              "    <tr>\n",
              "      <th>1624</th>\n",
              "      <td>0</td>\n",
              "      <td>0.0</td>\n",
              "    </tr>\n",
              "  </tbody>\n",
              "</table>\n",
              "<p>1625 rows × 2 columns</p>\n",
              "</div>"
            ],
            "text/plain": [
              "      Actual  Predicted\n",
              "0          0        0.0\n",
              "1          1        1.0\n",
              "2          1        1.0\n",
              "3          1        1.0\n",
              "4          0        0.0\n",
              "...      ...        ...\n",
              "1620       1        1.0\n",
              "1621       0        0.0\n",
              "1622       1        1.0\n",
              "1623       0        0.0\n",
              "1624       0        0.0\n",
              "\n",
              "[1625 rows x 2 columns]"
            ]
          },
          "metadata": {
            "tags": []
          },
          "execution_count": 61
        }
      ]
    },
    {
      "cell_type": "code",
      "metadata": {
        "id": "M2-GMKJPgxE9",
        "colab_type": "code",
        "colab": {
          "base_uri": "https://localhost:8080/",
          "height": 34
        },
        "outputId": "e581722c-0837-4ec4-bb54-06c1b670574e"
      },
      "source": [
        "from sklearn.metrics import accuracy_score\n",
        "\n",
        "print (accuracy_score(y_test,y_pred.round()))"
      ],
      "execution_count": 63,
      "outputs": [
        {
          "output_type": "stream",
          "text": [
            "1.0\n"
          ],
          "name": "stdout"
        }
      ]
    },
    {
      "cell_type": "code",
      "metadata": {
        "id": "gGhh5sHjqC-C",
        "colab_type": "code",
        "colab": {
          "base_uri": "https://localhost:8080/",
          "height": 255
        },
        "outputId": "1a3253af-f189-465f-f7a4-3ff8439b0a2a"
      },
      "source": [
        "from sklearn.ensemble import GradientBoostingClassifier\n",
        "from sklearn.metrics import accuracy_score\n",
        "lr_list = [0.05, 0.075, 0.1, 0.25, 0.5, 0.75, 1]\n",
        "for learning_rate in lr_list:\n",
        "    gb_clf=GradientBoostingClassifier(n_estimators=20,learning_rate=learning_rate, random_state=1)\n",
        "    gb_clf.fit(x_train,y_train)\n",
        "    y_pred=gb_clf.predict(x_test)\n",
        "    print(\"Learning rate: \", learning_rate)\n",
        "    print(\"Accuracy score : {0:.3f}\".format(accuracy_score(y_test,y_pred.round())))\n"
      ],
      "execution_count": 74,
      "outputs": [
        {
          "output_type": "stream",
          "text": [
            "Learning rate:  0.05\n",
            "Accuracy score : 0.977\n",
            "Learning rate:  0.075\n",
            "Accuracy score : 0.984\n",
            "Learning rate:  0.1\n",
            "Accuracy score : 0.984\n",
            "Learning rate:  0.25\n",
            "Accuracy score : 1.000\n",
            "Learning rate:  0.5\n",
            "Accuracy score : 1.000\n",
            "Learning rate:  0.75\n",
            "Accuracy score : 1.000\n",
            "Learning rate:  1\n",
            "Accuracy score : 1.000\n"
          ],
          "name": "stdout"
        }
      ]
    },
    {
      "cell_type": "code",
      "metadata": {
        "id": "2wdfOnRFxNR8",
        "colab_type": "code",
        "colab": {
          "base_uri": "https://localhost:8080/",
          "height": 34
        },
        "outputId": "b66bc389-3c0e-4a07-d5d4-3b7063a31ca2"
      },
      "source": [
        "from sklearn.tree import DecisionTreeClassifier\n",
        "#from sklearn import tree\n",
        "dt_clf=tree.DecisionTreeClassifier()\n",
        "dt_clf=dt_clf.fit(x_train,y_train)\n",
        "y_pred=dt_clf.predict(x_test)\n",
        "print (accuracy_score(y_test,y_pred.round()))"
      ],
      "execution_count": 81,
      "outputs": [
        {
          "output_type": "stream",
          "text": [
            "1.0\n"
          ],
          "name": "stdout"
        }
      ]
    },
    {
      "cell_type": "code",
      "metadata": {
        "id": "EOKRLLHszTpY",
        "colab_type": "code",
        "colab": {
          "base_uri": "https://localhost:8080/",
          "height": 190
        },
        "outputId": "a7a79e45-466f-4bc1-a935-484320b2bc50"
      },
      "source": [
        "from sklearn.linear_model import LogisticRegression\n",
        "logreg_clf=LogisticRegression()\n",
        "logreg_clf=logreg_clf.fit(x_train,y_train)\n",
        "y_pred=logreg_clf.predict(x_test)\n",
        "print (accuracy_score(y_test,y_pred.round()))"
      ],
      "execution_count": 83,
      "outputs": [
        {
          "output_type": "stream",
          "text": [
            "0.9501538461538461\n"
          ],
          "name": "stdout"
        },
        {
          "output_type": "stream",
          "text": [
            "/usr/local/lib/python3.6/dist-packages/sklearn/linear_model/_logistic.py:940: ConvergenceWarning: lbfgs failed to converge (status=1):\n",
            "STOP: TOTAL NO. of ITERATIONS REACHED LIMIT.\n",
            "\n",
            "Increase the number of iterations (max_iter) or scale the data as shown in:\n",
            "    https://scikit-learn.org/stable/modules/preprocessing.html\n",
            "Please also refer to the documentation for alternative solver options:\n",
            "    https://scikit-learn.org/stable/modules/linear_model.html#logistic-regression\n",
            "  extra_warning_msg=_LOGISTIC_SOLVER_CONVERGENCE_MSG)\n"
          ],
          "name": "stderr"
        }
      ]
    },
    {
      "cell_type": "code",
      "metadata": {
        "id": "PdPT44Cy0AFy",
        "colab_type": "code",
        "colab": {
          "base_uri": "https://localhost:8080/",
          "height": 34
        },
        "outputId": "9a399245-e6a5-4391-ae5e-a5ad4c06f649"
      },
      "source": [
        "from sklearn import svm\n",
        "svm_clf=svm.SVC()\n",
        "svm_clf.fit(x_train,y_train)\n",
        "y_pred=svm_clf.predict(x_test)\n",
        "print (accuracy_score(y_test,y_pred.round()))"
      ],
      "execution_count": 84,
      "outputs": [
        {
          "output_type": "stream",
          "text": [
            "0.9852307692307692\n"
          ],
          "name": "stdout"
        }
      ]
    },
    {
      "cell_type": "code",
      "metadata": {
        "id": "1JuucuM31A7A",
        "colab_type": "code",
        "colab": {
          "base_uri": "https://localhost:8080/",
          "height": 34
        },
        "outputId": "5558141d-a7f5-453a-d1ff-ccc0fc950400"
      },
      "source": [
        "from sklearn.naive_bayes import GaussianNB\n",
        "gnb_clf=GaussianNB()\n",
        "gnb_clf.fit(x_train,y_train)\n",
        "y_pred=gnb_clf.predict(x_test)\n",
        "print (accuracy_score(y_test,y_pred.round()))"
      ],
      "execution_count": 85,
      "outputs": [
        {
          "output_type": "stream",
          "text": [
            "0.9163076923076923\n"
          ],
          "name": "stdout"
        }
      ]
    },
    {
      "cell_type": "markdown",
      "metadata": {
        "id": "YlZPGXahFzkF",
        "colab_type": "text"
      },
      "source": [
        ""
      ]
    }
  ]
}